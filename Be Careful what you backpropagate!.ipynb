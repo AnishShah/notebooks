{
 "cells": [
  {
   "cell_type": "code",
   "execution_count": null,
   "metadata": {
    "collapsed": false
   },
   "outputs": [],
   "source": [
    "%pylab inline\n",
    "import numpy as np\n",
    "import torch\n",
    "import torch.nn as nn\n",
    "import torch.nn.functional as F\n",
    "import torch.utils.data.dataloader as dataloader\n",
    "import torch.optim as optim\n",
    "\n",
    "from torch.utils.data import TensorDataset\n",
    "from torch.autograd import Variable\n",
    "from torchvision import transforms\n",
    "from torchvision.datasets import MNIST"
   ]
  },
  {
   "cell_type": "code",
   "execution_count": null,
   "metadata": {
    "collapsed": false
   },
   "outputs": [],
   "source": [
    "train = MNIST('./data', train=True, download=True, transform=transforms.Compose([\n",
    "    transforms.ToTensor(), # ToTensor does min-max normalization. \n",
    "]), )\n",
    "\n",
    "test = MNIST('./data', train=False, download=True, transform=transforms.Compose([\n",
    "    transforms.ToTensor(), # ToTensor does min-max normalization. \n",
    "]), )\n",
    "batch_size = 64\n",
    "\n",
    "dataloader_args = dict(shuffle=True, batch_size=batch_size)\n",
    "train_loader = dataloader.DataLoader(train, **dataloader_args)\n",
    "test_loader = dataloader.DataLoader(test, **dataloader_args)"
   ]
  },
  {
   "cell_type": "code",
   "execution_count": null,
   "metadata": {
    "collapsed": false
   },
   "outputs": [],
   "source": [
    "train_data = train.train_data\n",
    "train_data = train.transform(train_data.numpy())\n",
    "\n",
    "print('[Train]')\n",
    "print(' - Numpy Shape:', train.train_data.cpu().numpy().shape)\n",
    "print(' - Tensor Shape:', train.train_data.size())\n",
    "print(' - Transformed Shape:', train_data.size())\n",
    "print(' - min:', torch.min(train_data))\n",
    "print(' - max:', torch.max(train_data))\n",
    "print(' - mean:', torch.mean(train_data))\n",
    "print(' - std:', torch.std(train_data))\n",
    "print(' - var:', torch.var(train_data))"
   ]
  },
  {
   "cell_type": "code",
   "execution_count": null,
   "metadata": {
    "collapsed": false
   },
   "outputs": [],
   "source": [
    "class Model(nn.Module):\n",
    "    def __init__(self):\n",
    "        super(Model, self).__init__()\n",
    "        \n",
    "        self.fc1 = nn.Linear(784, 392)\n",
    "        \n",
    "        self.fc2 = nn.Linear(392, 50)\n",
    "        \n",
    "        self.fc3 = nn.Linear(50, 10)\n",
    "        \n",
    "        \n",
    "    def forward(self, x):\n",
    "        x = x.view((-1, 784))\n",
    "        h = self.fc1(x)\n",
    "        h = F.relu(h)\n",
    "        \n",
    "        h = self.fc2(h)\n",
    "        h = F.relu(h)\n",
    "        \n",
    "        h = self.fc3(h)\n",
    "        out = h\n",
    "        return out\n",
    "\n",
    "model = Model()\n",
    "print(model)\n",
    "optimizer = optim.Adam(model.parameters(), lr=1e-4)"
   ]
  },
  {
   "cell_type": "code",
   "execution_count": null,
   "metadata": {
    "collapsed": false
   },
   "outputs": [],
   "source": [
    "train_loss, train_acc, test_acc = [], [], []\n",
    "for epoch in range(100):\n",
    "    avg_loss, avg_acc, total = 0.0, 0.0, 0.0\n",
    "    \n",
    "    model.train()\n",
    "    for batch_idx, (data, target) in enumerate(train_loader):\n",
    "        one_hot = torch.eye(10).index(target) * 10\n",
    "        data, target = Variable(data), Variable(target)\n",
    "        one_hot = Variable(one_hot)\n",
    "        optimizer.zero_grad()\n",
    "        y_pred = model(data) \n",
    "        loss = nn.MSELoss()(y_pred, one_hot)\n",
    "        avg_loss += loss.data[0] * int(data.size()[0])\n",
    "        loss.backward()\n",
    "        optimizer.step()\n",
    "        prediction = y_pred.data.max(1)[1]\n",
    "        avg_acc += prediction.eq(target.data).sum()\n",
    "        total += int(data.size()[0])\n",
    "    \n",
    "    avg_loss = avg_loss / total\n",
    "    avg_acc = avg_acc / total * 100\n",
    "    train_loss.append(avg_loss)\n",
    "    train_acc.append(avg_acc)\n",
    "    print(\"Train Epoch {}\\tLoss: {:.6f}\\tAccuracy: {:.6f}\".format(epoch, avg_loss, avg_acc))\n",
    "    \n",
    "    evaluate_x = Variable(test_loader.dataset.test_data.type_as(torch.FloatTensor()))\n",
    "    evaluate_y = Variable(test_loader.dataset.test_labels)\n",
    "    output = model(evaluate_x)\n",
    "    pred = output.data.max(1)[1]\n",
    "    avg_test_acc = pred.eq(evaluate_y.data).sum() / float(evaluate_y.size()[0]) * 100\n",
    "    test_acc.append(avg_test_acc)\n",
    "    print(\"Test Epoch {}\\tAccuracy: {:.6f}\".format(epoch, avg_test_acc))"
   ]
  },
  {
   "cell_type": "code",
   "execution_count": null,
   "metadata": {
    "collapsed": false
   },
   "outputs": [],
   "source": [
    "import csv\n",
    "with open(\"linear.csv\", \"wb\") as f:\n",
    "    writer = csv.writer(f)\n",
    "    writer.writerows(zip(train_loss, train_acc, test_acc))"
   ]
  },
  {
   "cell_type": "code",
   "execution_count": null,
   "metadata": {
    "collapsed": true
   },
   "outputs": [],
   "source": []
  }
 ],
 "metadata": {
  "kernelspec": {
   "display_name": "Python 2",
   "language": "python",
   "name": "python2"
  },
  "language_info": {
   "codemirror_mode": {
    "name": "ipython",
    "version": 2
   },
   "file_extension": ".py",
   "mimetype": "text/x-python",
   "name": "python",
   "nbconvert_exporter": "python",
   "pygments_lexer": "ipython2",
   "version": "2.7.12"
  }
 },
 "nbformat": 4,
 "nbformat_minor": 0
}
